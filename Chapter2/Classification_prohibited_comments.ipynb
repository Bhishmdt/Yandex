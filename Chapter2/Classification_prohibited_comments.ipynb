{
  "nbformat": 4,
  "nbformat_minor": 0,
  "metadata": {
    "colab": {
      "name": "2_Classification_prohibited_comments.ipynb",
      "provenance": [],
      "collapsed_sections": [],
      "authorship_tag": "ABX9TyOXltVJ8LshPYRZdfo7RjkX"
    },
    "kernelspec": {
      "name": "python3",
      "display_name": "Python 3"
    }
  },
  "cells": [
    {
      "cell_type": "code",
      "metadata": {
        "id": "iD9cap_F41Rl"
      },
      "source": [
        "import numpy as np\r\n",
        "import matplotlib.pyplot as plt\r\n",
        "%matplotlib inline"
      ],
      "execution_count": null,
      "outputs": []
    },
    {
      "cell_type": "code",
      "metadata": {
        "colab": {
          "resources": {
            "http://localhost:8080/nbextensions/google.colab/files.js": {
              "data": "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",
              "ok": true,
              "headers": [
                [
                  "content-type",
                  "application/javascript"
                ]
              ],
              "status": 200,
              "status_text": ""
            }
          },
          "base_uri": "https://localhost:8080/",
          "height": 73
        },
        "id": "381huViW5ODP",
        "outputId": "31711332-2f30-4967-80b1-bc011223c8ec"
      },
      "source": [
        "from google.colab import files\r\n",
        "uploaded = files.upload()"
      ],
      "execution_count": null,
      "outputs": [
        {
          "output_type": "display_data",
          "data": {
            "text/html": [
              "\n",
              "     <input type=\"file\" id=\"files-28c15fc8-4592-4040-b160-15f327daf8e4\" name=\"files[]\" multiple disabled\n",
              "        style=\"border:none\" />\n",
              "     <output id=\"result-28c15fc8-4592-4040-b160-15f327daf8e4\">\n",
              "      Upload widget is only available when the cell has been executed in the\n",
              "      current browser session. Please rerun this cell to enable.\n",
              "      </output>\n",
              "      <script src=\"/nbextensions/google.colab/files.js\"></script> "
            ],
            "text/plain": [
              "<IPython.core.display.HTML object>"
            ]
          },
          "metadata": {
            "tags": []
          }
        },
        {
          "output_type": "stream",
          "text": [
            "Saving comments.tsv to comments.tsv\n"
          ],
          "name": "stdout"
        }
      ]
    },
    {
      "cell_type": "code",
      "metadata": {
        "id": "9uvCjbv65Ifi"
      },
      "source": [
        "import pandas as pd\r\n",
        "data = pd.read_csv(\"/content/comments.tsv\", sep = '\\t')"
      ],
      "execution_count": null,
      "outputs": []
    },
    {
      "cell_type": "code",
      "metadata": {
        "id": "MITTUiZR56xS"
      },
      "source": [
        "texts = data['comment_text'].values\r\n",
        "target = data['should_ban'].values"
      ],
      "execution_count": null,
      "outputs": []
    },
    {
      "cell_type": "code",
      "metadata": {
        "colab": {
          "base_uri": "https://localhost:8080/",
          "height": 195
        },
        "id": "zwMSpU2-6Izn",
        "outputId": "9eab955c-c34e-422c-d7d3-04d186a19431"
      },
      "source": [
        "data[50::200]"
      ],
      "execution_count": null,
      "outputs": [
        {
          "output_type": "execute_result",
          "data": {
            "text/html": [
              "<div>\n",
              "<style scoped>\n",
              "    .dataframe tbody tr th:only-of-type {\n",
              "        vertical-align: middle;\n",
              "    }\n",
              "\n",
              "    .dataframe tbody tr th {\n",
              "        vertical-align: top;\n",
              "    }\n",
              "\n",
              "    .dataframe thead th {\n",
              "        text-align: right;\n",
              "    }\n",
              "</style>\n",
              "<table border=\"1\" class=\"dataframe\">\n",
              "  <thead>\n",
              "    <tr style=\"text-align: right;\">\n",
              "      <th></th>\n",
              "      <th>should_ban</th>\n",
              "      <th>comment_text</th>\n",
              "    </tr>\n",
              "  </thead>\n",
              "  <tbody>\n",
              "    <tr>\n",
              "      <th>50</th>\n",
              "      <td>0</td>\n",
              "      <td>\"Those who're in advantageous positions are th...</td>\n",
              "    </tr>\n",
              "    <tr>\n",
              "      <th>250</th>\n",
              "      <td>1</td>\n",
              "      <td>Fartsalot56 says f**k you motherclucker!!</td>\n",
              "    </tr>\n",
              "    <tr>\n",
              "      <th>450</th>\n",
              "      <td>1</td>\n",
              "      <td>Are you a fool? \\n\\nI am sorry, but you seem t...</td>\n",
              "    </tr>\n",
              "    <tr>\n",
              "      <th>650</th>\n",
              "      <td>1</td>\n",
              "      <td>I AM NOT A VANDAL!!!!!!!!!!!!!!!!!!!!!!!!!!!!!!</td>\n",
              "    </tr>\n",
              "    <tr>\n",
              "      <th>850</th>\n",
              "      <td>0</td>\n",
              "      <td>Citing sources\\n\\nCheck out the Wikipedia:Citi...</td>\n",
              "    </tr>\n",
              "  </tbody>\n",
              "</table>\n",
              "</div>"
            ],
            "text/plain": [
              "     should_ban                                       comment_text\n",
              "50            0  \"Those who're in advantageous positions are th...\n",
              "250           1          Fartsalot56 says f**k you motherclucker!!\n",
              "450           1  Are you a fool? \\n\\nI am sorry, but you seem t...\n",
              "650           1    I AM NOT A VANDAL!!!!!!!!!!!!!!!!!!!!!!!!!!!!!!\n",
              "850           0  Citing sources\\n\\nCheck out the Wikipedia:Citi..."
            ]
          },
          "metadata": {
            "tags": []
          },
          "execution_count": 19
        }
      ]
    },
    {
      "cell_type": "code",
      "metadata": {
        "colab": {
          "base_uri": "https://localhost:8080/"
        },
        "id": "36FLe0be6J5n",
        "outputId": "980e695d-e302-40e5-e027-41a2fc689c80"
      },
      "source": [
        "data.shape"
      ],
      "execution_count": null,
      "outputs": [
        {
          "output_type": "execute_result",
          "data": {
            "text/plain": [
              "(1000, 2)"
            ]
          },
          "metadata": {
            "tags": []
          },
          "execution_count": 20
        }
      ]
    },
    {
      "cell_type": "code",
      "metadata": {
        "id": "wQfURVyn6nC1"
      },
      "source": [
        "from sklearn.model_selection import train_test_split\r\n",
        "texts_train, texts_test, y_train, y_test = train_test_split(texts, target, test_size = 0.5, random_state = 42)"
      ],
      "execution_count": null,
      "outputs": []
    },
    {
      "cell_type": "code",
      "metadata": {
        "colab": {
          "base_uri": "https://localhost:8080/"
        },
        "id": "DUyfu0fS7CYJ",
        "outputId": "ac70ed52-13f7-40e9-d790-7de5a1f66998"
      },
      "source": [
        "from nltk.tokenize import TweetTokenizer\r\n",
        "tokenizer = TweetTokenizer()\r\n",
        "preprocess = lambda text: ' '.join(tokenizer.tokenize(text.lower()))\r\n",
        "\r\n",
        "text = 'How to be a grown-up at work: replace \"fuck you\" with \"Ok, great!\".'\r\n",
        "print(\"before:\", text)\r\n",
        "print(\"after:\", preprocess(text))"
      ],
      "execution_count": null,
      "outputs": [
        {
          "output_type": "stream",
          "text": [
            "before: How to be a grown-up at work: replace \"fuck you\" with \"Ok, great!\".\n",
            "after: how to be a grown-up at work : replace \" fuck you \" with \" ok , great ! \" .\n"
          ],
          "name": "stdout"
        }
      ]
    },
    {
      "cell_type": "code",
      "metadata": {
        "id": "-aX9eBLc7vJh"
      },
      "source": [
        "texts_train = np.array([preprocess(sentence) for sentence in texts_train])\r\n",
        "texts_test = np.array([preprocess(sentence) for sentence in texts_test])"
      ],
      "execution_count": null,
      "outputs": []
    },
    {
      "cell_type": "code",
      "metadata": {
        "id": "hugVTv7o8XWN"
      },
      "source": [
        "assert texts_train[5] ==  'who cares anymore . they attack with impunity .'\r\n",
        "assert texts_test[89] == 'hey todds ! quick q ? why are you so gay'\r\n",
        "assert len(texts_test) == len(y_test)"
      ],
      "execution_count": null,
      "outputs": []
    },
    {
      "cell_type": "code",
      "metadata": {
        "colab": {
          "base_uri": "https://localhost:8080/"
        },
        "id": "cL8MULRL8Zxk",
        "outputId": "980f736e-8efd-4ba6-f0e4-0f39e53935f1"
      },
      "source": [
        "# task: find up to k most frequent tokens in texts_train,\r\n",
        "# sort them by number of occurences (highest first)\r\n",
        "k = 10000\r\n",
        "\r\n",
        "#for sentence in texts_train:\r\n",
        " # for text in sentence.split():\r\n",
        " #Counter, most common\r\n",
        "unique_words, counts_words = np.unique(' '.join(texts_train).split(), return_counts=True)\r\n",
        "\r\n",
        "bow_vocabulary = unique_words[np.argsort(counts_words)[-k:]]\r\n",
        "\r\n",
        "print('example features:', sorted(bow_vocabulary)[::1000])"
      ],
      "execution_count": null,
      "outputs": [
        {
          "output_type": "stream",
          "text": [
            "example features: ['!', 'came', 'faggot', 'lets', 'punctuation', 'theoretical']\n"
          ],
          "name": "stdout"
        }
      ]
    },
    {
      "cell_type": "code",
      "metadata": {
        "id": "x_EU3eE7JBfE"
      },
      "source": [
        "word_to_id = dict(zip(bow_vocabulary, np.arange(len(bow_vocabulary))))"
      ],
      "execution_count": null,
      "outputs": []
    },
    {
      "cell_type": "code",
      "metadata": {
        "id": "rMrhHu6HKdoX"
      },
      "source": [
        "def text_to_bow(text):\r\n",
        "    \"\"\" convert text string to an array of token counts. Use bow_vocabulary. \"\"\"\r\n",
        "    embedding = np.zeros(len(bow_vocabulary))\r\n",
        "    for word in text.split():\r\n",
        "      if word in word_to_id.keys():\r\n",
        "        embedding[word_to_id[word]] += 1\r\n",
        "    \r\n",
        "    return np.array(embedding, 'float32')"
      ],
      "execution_count": null,
      "outputs": []
    },
    {
      "cell_type": "code",
      "metadata": {
        "id": "-wcd1IrYMAje"
      },
      "source": [
        "X_train_bow = np.stack(list(map(text_to_bow, texts_train)))\r\n",
        "X_test_bow = np.stack(list(map(text_to_bow, texts_test)))"
      ],
      "execution_count": null,
      "outputs": []
    },
    {
      "cell_type": "code",
      "metadata": {
        "id": "20p30EzCMwR9"
      },
      "source": [
        "k_max = len(set(' '.join(texts_train).split()))\r\n",
        "assert X_train_bow.shape == (len(texts_train), min(k, k_max))\r\n",
        "assert X_test_bow.shape == (len(texts_test), min(k, k_max))\r\n",
        "assert np.all(X_train_bow[5:10].sum(-1) == np.array([len(s.split()) for s in  texts_train[5:10]]))\r\n",
        "assert len(bow_vocabulary) <= min(k, k_max)\r\n",
        "assert X_train_bow[6, list(bow_vocabulary).index('.')] == texts_train[6].split().count('.')"
      ],
      "execution_count": null,
      "outputs": []
    },
    {
      "cell_type": "code",
      "metadata": {
        "colab": {
          "base_uri": "https://localhost:8080/"
        },
        "id": "fsxkc56SRotq",
        "outputId": "7facdf2a-4535-4e6f-906e-f3b32a0ad40f"
      },
      "source": [
        "np.array([sum(y_train == k)/len(y_train) for k in set(y_train)])"
      ],
      "execution_count": null,
      "outputs": [
        {
          "output_type": "execute_result",
          "data": {
            "text/plain": [
              "array([0.522, 0.478])"
            ]
          },
          "metadata": {
            "tags": []
          },
          "execution_count": 30
        }
      ]
    },
    {
      "cell_type": "code",
      "metadata": {
        "id": "9uExcD9eU9VV"
      },
      "source": [
        "wp = sum(X_train_bow[y_train==1])\r\n",
        "wn = sum(X_train_bow[y_train==0])"
      ],
      "execution_count": null,
      "outputs": []
    },
    {
      "cell_type": "code",
      "metadata": {
        "id": "y_i9py2YepcG"
      },
      "source": [
        "pxp = np.array([(1 + wp[i])/(wn[i] + wp[i] + X_train_bow.shape[1]) for i in range(X_train_bow.shape[1])])"
      ],
      "execution_count": null,
      "outputs": []
    },
    {
      "cell_type": "code",
      "metadata": {
        "id": "2Yp-ZPwfhz17"
      },
      "source": [
        "f_index = list(bow_vocabulary).index('fuck')"
      ],
      "execution_count": null,
      "outputs": []
    },
    {
      "cell_type": "code",
      "metadata": {
        "colab": {
          "base_uri": "https://localhost:8080/"
        },
        "id": "PAlGuOI5fHk7",
        "outputId": "b045ac4a-035f-478d-f40c-e3feaf6e7a00"
      },
      "source": [
        "pxp[f_index]\r\n"
      ],
      "execution_count": null,
      "outputs": [
        {
          "output_type": "execute_result",
          "data": {
            "text/plain": [
              "0.007632263660017346"
            ]
          },
          "metadata": {
            "tags": []
          },
          "execution_count": 93
        }
      ]
    },
    {
      "cell_type": "code",
      "metadata": {
        "colab": {
          "base_uri": "https://localhost:8080/"
        },
        "id": "SHV4d9lYXXp_",
        "outputId": "e2bfc8c6-4b17-4e3e-b537-82887cf5182a"
      },
      "source": [
        "sum(y_train==0)"
      ],
      "execution_count": null,
      "outputs": [
        {
          "output_type": "execute_result",
          "data": {
            "text/plain": [
              "261"
            ]
          },
          "metadata": {
            "tags": []
          },
          "execution_count": 77
        }
      ]
    },
    {
      "cell_type": "code",
      "metadata": {
        "colab": {
          "base_uri": "https://localhost:8080/"
        },
        "id": "2boto129ZfvF",
        "outputId": "92cef156-6b11-4611-f07d-1af46c7e7bf0"
      },
      "source": [
        "X_train_bow.shape[1]"
      ],
      "execution_count": null,
      "outputs": [
        {
          "output_type": "execute_result",
          "data": {
            "text/plain": [
              "5722"
            ]
          },
          "metadata": {
            "tags": []
          },
          "execution_count": 82
        }
      ]
    },
    {
      "cell_type": "code",
      "metadata": {
        "id": "70flK0NLNLOm"
      },
      "source": [
        "class BinaryNaiveBayes:\r\n",
        "  self.delta = 1.0  # add this to all word counts to smoothe probabilities\r\n",
        "    \r\n",
        "  def fit(self, X, y):\r\n",
        "    \"\"\"\r\n",
        "        Fit a NaiveBayes classifier for two classes\r\n",
        "        :param X: [batch_size, vocab_size] of bag-of-words features\r\n",
        "        :param y: [batch_size] of binary targets {0, 1}\r\n",
        "    \"\"\"\r\n",
        "    # first, compute marginal probabilities of every class, p(y=k) for k = 0,1\r\n",
        "    self.p_y = np.array([sum(y == k)/len(y) for k in set(y)])\r\n",
        "        \r\n",
        "    # count occurences of each word in texts with label 1 and label 0 separately\r\n",
        "    word_counts_positive = sum(X_train_bow[y_train==1])\r\n",
        "    word_counts_negative = sum(X_train_bow[y_train==0])\r\n",
        "    # ^-- both must be vectors of shape [vocab_size].\r\n",
        "        \r\n",
        "    # finally, lets use those counts to estimate p(x | y = k) for k = 0, 1\r\n",
        "    #for i in X.shape[1]:\r\n",
        "     # p_xi_given_positive = (self.delta + word_counts_positive[i])/(word_counts_negative[i] + word_counts_positive[i] + self.delta * X.shape[1])\r\n",
        "      #p_xi_given_negative = (self.delta + word_counts_negative[i])/(word_counts_negative[i] + word_counts_positive[i] + self.delta * X.shape[1])\r\n",
        "    self.p_x_given_positive = np.array([(self.delta + word_counts_positive[i])/(word_counts_negative[i] + word_counts_positive[i] + self.delta * X.shape[1]) for i in range(X.shape[1])])\r\n",
        "    self.p_x_given_negative = np.array([(self.delta + word_counts_negative[i])/(word_counts_negative[i] + word_counts_positive[i] + self.delta * X.shape[1]) for i in range(X.shape[1])])\r\n",
        "    # both must be of shape [vocab_size]; and don't forget to add self.delta!\r\n",
        "        \r\n",
        "    return self\r\n",
        "    \r\n",
        "  def predict_scores(self, X):\r\n",
        "    \"\"\"\r\n",
        "        :param X: [batch_size, vocab_size] of bag-of-words features\r\n",
        "        :returns: a matrix of scores [batch_size, k] of scores for k-th class\r\n",
        "    \"\"\"\r\n",
        "    # compute scores for positive and negative classes separately.\r\n",
        "    # these scores should be proportional to log-probabilities of the respective target {0, 1}\r\n",
        "    # note: if you apply logarithm to p_x_given_*, the total log-probability can be written\r\n",
        "    # as a dot-product with X\r\n",
        "    score_negative = \r\n",
        "    score_positive = <YOUR CODE HERE - compute positive negative log-probability>\r\n",
        "        \r\n",
        "    # you can compute total p(x | y=k) with a dot product\r\n",
        "    return np.stack([score_negative, score_positive], axis=-1)\r\n",
        "    \r\n",
        "  def predict(self, X):\r\n",
        "    return self.predict_scores(X).argmax(axis=-1)"
      ],
      "execution_count": null,
      "outputs": []
    },
    {
      "cell_type": "code",
      "metadata": {
        "id": "VdRqrX88Q12_"
      },
      "source": [
        "naive_model = BinaryNaiveBayes().fit(X_train_bow, y_train)"
      ],
      "execution_count": null,
      "outputs": []
    },
    {
      "cell_type": "code",
      "metadata": {
        "id": "rZgivH6lQ3E-"
      },
      "source": [
        "assert naive_model.p_y.shape == (2,) and naive_model.p_y.sum() == 1 and naive_model.p_y[0] > naive_model.p_y[1]\r\n",
        "assert naive_model.p_x_given_positive.shape == naive_model.p_x_given_negative.shape == X_train_bow.shape[1:]\r\n",
        "assert np.allclose(naive_model.p_x_given_positive.sum(), 1.0)\r\n",
        "assert np.allclose(naive_model.p_x_given_negative.sum(), 1.0)\r\n",
        "assert naive_model.p_x_given_negative.min() > 0, \"did you forget to add delta?\"\r\n",
        "\r\n",
        "f_index = list(bow_vocabulary).index('fuck')  # offensive tweets should contain more of this\r\n",
        "assert naive_model.p_x_given_positive[f_index] > naive_model.p_x_given_negative[f_index]\r\n",
        "\r\n",
        "g_index = list(bow_vocabulary).index('good')  # offensive tweets should contain less of this\r\n",
        "assert naive_model.p_x_given_positive[g_index] < naive_model.p_x_given_negative[g_index]"
      ],
      "execution_count": null,
      "outputs": []
    },
    {
      "cell_type": "code",
      "metadata": {
        "id": "kWyer4aXQ57E"
      },
      "source": [
        "from sklearn.metrics import roc_auc_score, roc_curve\r\n",
        "\r\n",
        "for name, X, y, model in [('train', X_train_bow, y_train, naive_model), ('test ', X_test_bow, y_test, naive_model)]:\r\n",
        "  proba = model.predict_scores(X)[:, 1] - model.predict_scores(X)[:, 0]\r\n",
        "  auc = roc_auc_score(y, proba)\r\n",
        "  plt.plot(*roc_curve(y, proba)[:2], label='%s AUC=%.4f' % (name, auc))\r\n",
        "\r\n",
        "plt.plot([0, 1], [0, 1], '--', color='black',)\r\n",
        "plt.legend(fontsize='large')\r\n",
        "plt.grid()\r\n",
        "\r\n",
        "test_accuracy = np.mean(naive_model.predict(X_test_bow) == y_test)\r\n",
        "print(f\"Model accuracy: {test_accuracy:.3f}\")\r\n",
        "assert test_accuracy > 0.75, \"Accuracy too low. There's likely a mistake in the code.\"\r\n",
        "print(\"Well done!\")"
      ],
      "execution_count": null,
      "outputs": []
    },
    {
      "cell_type": "code",
      "metadata": {
        "id": "buXeJYMKxSdK"
      },
      "source": [
        "from sklearn.linear_model import LogisticRegression\r\n",
        "bow_model = LogisticRegression().fit(X_train_bow, y_train)"
      ],
      "execution_count": null,
      "outputs": []
    },
    {
      "cell_type": "code",
      "metadata": {
        "colab": {
          "base_uri": "https://localhost:8080/",
          "height": 265
        },
        "id": "usFgyS-Dx3Z3",
        "outputId": "eb6bf734-2c53-4bee-9718-6697b68f8c22"
      },
      "source": [
        "from sklearn.metrics import roc_auc_score, roc_curve\r\n",
        "\r\n",
        "for name, X, y, model in [\r\n",
        "    ('train', X_train_bow, y_train, bow_model),\r\n",
        "    ('test ', X_test_bow, y_test, bow_model)\r\n",
        "]:\r\n",
        "    proba = model.predict_proba(X)[:, 1]\r\n",
        "    auc = roc_auc_score(y, proba)\r\n",
        "    plt.plot(*roc_curve(y, proba)[:2], label='%s AUC=%.4f' % (name, auc))\r\n",
        "\r\n",
        "plt.plot([0, 1], [0, 1], '--', color='black',)\r\n",
        "plt.legend(fontsize='large')\r\n",
        "plt.grid()"
      ],
      "execution_count": null,
      "outputs": [
        {
          "output_type": "display_data",
          "data": {
            "image/png": "[encoded data removed]",
            "text/plain": [
              "<Figure size 432x288 with 1 Axes>"
            ]
          },
          "metadata": {
            "tags": [],
            "needs_background": "light"
          }
        }
      ]
    },
    {
      "cell_type": "code",
      "metadata": {
        "id": "oiF3BfAfx9xO"
      },
      "source": [
        "# at first we should count number of document including word for each word\r\n",
        "words_in_documents = np.zeros((len(bow_vocabulary)))\r\n",
        "for text in texts_train:\r\n",
        "    unique_words = np.unique(text.split())\r\n",
        "    for word in unique_words:\r\n",
        "        words_in_documents[word_to_id[word]] += 1"
      ],
      "execution_count": null,
      "outputs": []
    },
    {
      "cell_type": "code",
      "metadata": {
        "id": "Hqm_oajsyFmM"
      },
      "source": [
        "def text_to_tfidf(text):\r\n",
        "    words = text.split()\r\n",
        "    embedding = (text_to_bow(text) / len(words))  * np.log(len(texts_train) / words_in_documents)\r\n",
        "    return np.array(embedding, 'float32')"
      ],
      "execution_count": null,
      "outputs": []
    },
    {
      "cell_type": "code",
      "metadata": {
        "id": "0VUq2RiryH1k"
      },
      "source": [
        "X_train_tfidf = np.stack(list(map(text_to_tfidf, texts_train)))\r\n",
        "X_test_tfidf = np.stack(list(map(text_to_tfidf, texts_test)))"
      ],
      "execution_count": null,
      "outputs": []
    },
    {
      "cell_type": "code",
      "metadata": {
        "id": "5SKNw6wVyKEQ"
      },
      "source": [
        "tfidf_model = LogisticRegression().fit(X_train_tfidf, y_train)"
      ],
      "execution_count": null,
      "outputs": []
    },
    {
      "cell_type": "code",
      "metadata": {
        "colab": {
          "base_uri": "https://localhost:8080/",
          "height": 265
        },
        "id": "Xyh4nlNqyMVX",
        "outputId": "50f885b2-4207-4e63-d74b-7abd3a215afe"
      },
      "source": [
        "for name, X, y, model in [\r\n",
        "    ('train', X_train_tfidf, y_train, tfidf_model),\r\n",
        "    ('test ', X_test_tfidf, y_test, tfidf_model)\r\n",
        "]:\r\n",
        "    proba = model.predict_proba(X)[:, 1]\r\n",
        "    auc = roc_auc_score(y, proba)\r\n",
        "    plt.plot(*roc_curve(y, proba)[:2], label='%s AUC=%.4f' % (name, auc))\r\n",
        "\r\n",
        "plt.plot([0, 1], [0, 1], '--', color='black',)\r\n",
        "plt.legend(fontsize='large')\r\n",
        "plt.grid()"
      ],
      "execution_count": null,
      "outputs": [
        {
          "output_type": "display_data",
          "data": {
            "image/png": "[encoded data removed]",
            "text/plain": [
              "<Figure size 432x288 with 1 Axes>"
            ]
          },
          "metadata": {
            "tags": [],
            "needs_background": "light"
          }
        }
      ]
    },
    {
      "cell_type": "code",
      "metadata": {
        "colab": {
          "base_uri": "https://localhost:8080/"
        },
        "id": "cQ5y7l7syOkP",
        "outputId": "cb974377-dd91-4138-e57a-d1fbcc57e085"
      },
      "source": [
        "import gensim.downloader \r\n",
        "embeddings = gensim.downloader.load(\"fasttext-wiki-news-subwords-300\")"
      ],
      "execution_count": null,
      "outputs": [
        {
          "output_type": "stream",
          "text": [
            "[=================================================-] 98.2% 941.0/958.4MB downloaded"
          ],
          "name": "stdout"
        }
      ]
    },
    {
      "cell_type": "code",
      "metadata": {
        "id": "dNKEpN0IyUgt"
      },
      "source": [
        "def vectorize_sum(comment):\r\n",
        "    \"\"\"\r\n",
        "    implement a function that converts preprocessed comment to a sum of token vectors\r\n",
        "    \"\"\"\r\n",
        "    embedding_dim = embeddings.vectors.shape[1]\r\n",
        "    features = np.zeros([embedding_dim], dtype='float32')\r\n",
        "    features.shape\r\n",
        "    \r\n",
        "    words = comment.split()\r\n",
        "    for word in words:\r\n",
        "        if word in embeddings.vocab.keys():\r\n",
        "            features += embeddings[word]\r\n",
        "        else:\r\n",
        "            features += embeddings['UNK']\r\n",
        "    \r\n",
        "    return features\r\n",
        "\r\n",
        "assert np.allclose(\r\n",
        "    vectorize_sum(\"who cares anymore . they attack with impunity .\")[::70],\r\n",
        "    np.array([ 0.0108616 ,  0.0261663 ,  0.13855131, -0.18510573, -0.46380025])\r\n",
        ")"
      ],
      "execution_count": null,
      "outputs": []
    },
    {
      "cell_type": "code",
      "metadata": {
        "id": "FaqgfEsvylxD"
      },
      "source": [
        "X_train_wv = np.stack([vectorize_sum(text) for text in texts_train])\r\n",
        "X_test_wv = np.stack([vectorize_sum(text) for text in texts_test])"
      ],
      "execution_count": null,
      "outputs": []
    },
    {
      "cell_type": "code",
      "metadata": {
        "colab": {
          "base_uri": "https://localhost:8080/",
          "height": 399
        },
        "id": "8SQ4NTs-ynuO",
        "outputId": "4cdf8b33-e52e-4d1c-f0bd-3b283df3013d"
      },
      "source": [
        "wv_model = LogisticRegression().fit(X_train_wv, y_train)\r\n",
        "\r\n",
        "for name, X, y, model in [\r\n",
        "    ('bow train', X_train_bow, y_train, bow_model),\r\n",
        "    ('bow test ', X_test_bow, y_test, bow_model),\r\n",
        "    ('vec train', X_train_wv, y_train, wv_model),\r\n",
        "    ('vec test ', X_test_wv, y_test, wv_model)\r\n",
        "]:\r\n",
        "    proba = model.predict_proba(X)[:, 1]\r\n",
        "    auc = roc_auc_score(y, proba)\r\n",
        "    plt.plot(*roc_curve(y, proba)[:2], label='%s AUC=%.4f' % (name, auc))\r\n",
        "\r\n",
        "plt.plot([0, 1], [0, 1], '--', color='black',)\r\n",
        "plt.legend(fontsize='large')\r\n",
        "plt.grid()\r\n",
        "\r\n",
        "assert roc_auc_score(y_test, wv_model.predict_proba(X_test_wv)[:, 1]) > 0.92, \"something's wrong with your features\""
      ],
      "execution_count": null,
      "outputs": [
        {
          "output_type": "stream",
          "text": [
            "/usr/local/lib/python3.6/dist-packages/sklearn/linear_model/_logistic.py:940: ConvergenceWarning: lbfgs failed to converge (status=1):\n",
            "STOP: TOTAL NO. of ITERATIONS REACHED LIMIT.\n",
            "\n",
            "Increase the number of iterations (max_iter) or scale the data as shown in:\n",
            "    https://scikit-learn.org/stable/modules/preprocessing.html\n",
            "Please also refer to the documentation for alternative solver options:\n",
            "    https://scikit-learn.org/stable/modules/linear_model.html#logistic-regression\n",
            "  extra_warning_msg=_LOGISTIC_SOLVER_CONVERGENCE_MSG)\n"
          ],
          "name": "stderr"
        },
        {
          "output_type": "display_data",
          "data": {
            "image/png": "[encoded data removed]",
            "text/plain": [
              "<Figure size 432x288 with 1 Axes>"
            ]
          },
          "metadata": {
            "tags": [],
            "needs_background": "light"
          }
        }
      ]
    }
  ]
}
