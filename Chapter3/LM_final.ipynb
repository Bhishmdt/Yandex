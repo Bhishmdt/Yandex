{
  "nbformat": 4,
  "nbformat_minor": 0,
  "metadata": {
    "colab": {
      "name": "3_LM_final.ipynb",
      "provenance": [],
      "collapsed_sections": [],
      "authorship_tag": "ABX9TyNTzPHxr0jxbaNoEq0Wk7QJ"
    },
    "kernelspec": {
      "name": "python3",
      "display_name": "Python 3"
    },
    "accelerator": "GPU"
  },
  "cells": [
    {
      "cell_type": "code",
      "metadata": {
        "id": "2EAjoOk8yJqo"
      },
      "source": [
        "import numpy as np\r\n",
        "import pandas as pd\r\n",
        "import matplotlib.pyplot as plt\r\n",
        "%matplotlib inline"
      ],
      "execution_count": null,
      "outputs": []
    },
    {
      "cell_type": "code",
      "metadata": {
        "colab": {
          "resources": {
            "http://localhost:8080/nbextensions/google.colab/files.js": {
              "data": "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",
              "ok": true,
              "headers": [
                [
                  "content-type",
                  "application/javascript"
                ]
              ],
              "status": 200,
              "status_text": ""
            }
          },
          "base_uri": "https://localhost:8080/",
          "height": 73
        },
        "id": "8olNNTvh47iD",
        "outputId": "d4efadb1-7bee-481f-94d9-2e228363af0d"
      },
      "source": [
        "from google.colab import files\r\n",
        "uploaded = files.upload()"
      ],
      "execution_count": null,
      "outputs": [
        {
          "output_type": "display_data",
          "data": {
            "text/html": [
              "\n",
              "     <input type=\"file\" id=\"files-373b317b-942c-4209-8bed-9d5372ce23a0\" name=\"files[]\" multiple disabled\n",
              "        style=\"border:none\" />\n",
              "     <output id=\"result-373b317b-942c-4209-8bed-9d5372ce23a0\">\n",
              "      Upload widget is only available when the cell has been executed in the\n",
              "      current browser session. Please rerun this cell to enable.\n",
              "      </output>\n",
              "      <script src=\"/nbextensions/google.colab/files.js\"></script> "
            ],
            "text/plain": [
              "<IPython.core.display.HTML object>"
            ]
          },
          "metadata": {
            "tags": []
          }
        },
        {
          "output_type": "stream",
          "text": [
            "Saving arxivData.json to arxivData.json\n"
          ],
          "name": "stdout"
        }
      ]
    },
    {
      "cell_type": "code",
      "metadata": {
        "id": "kmIGHz3O38eD"
      },
      "source": [
        "BOS, EOS = ' ', '\\n'\r\n",
        "data = pd.read_json(\"/content/arxivData.json\")"
      ],
      "execution_count": null,
      "outputs": []
    },
    {
      "cell_type": "code",
      "metadata": {
        "colab": {
          "base_uri": "https://localhost:8080/",
          "height": 280
        },
        "id": "LqGugcWJ1MqN",
        "outputId": "a0625651-70fe-4ce1-ad28-873f1101a0fd"
      },
      "source": [
        "data.head()"
      ],
      "execution_count": null,
      "outputs": [
        {
          "output_type": "execute_result",
          "data": {
            "text/html": [
              "<div>\n",
              "<style scoped>\n",
              "    .dataframe tbody tr th:only-of-type {\n",
              "        vertical-align: middle;\n",
              "    }\n",
              "\n",
              "    .dataframe tbody tr th {\n",
              "        vertical-align: top;\n",
              "    }\n",
              "\n",
              "    .dataframe thead th {\n",
              "        text-align: right;\n",
              "    }\n",
              "</style>\n",
              "<table border=\"1\" class=\"dataframe\">\n",
              "  <thead>\n",
              "    <tr style=\"text-align: right;\">\n",
              "      <th></th>\n",
              "      <th>author</th>\n",
              "      <th>day</th>\n",
              "      <th>id</th>\n",
              "      <th>link</th>\n",
              "      <th>month</th>\n",
              "      <th>summary</th>\n",
              "      <th>tag</th>\n",
              "      <th>title</th>\n",
              "      <th>year</th>\n",
              "    </tr>\n",
              "  </thead>\n",
              "  <tbody>\n",
              "    <tr>\n",
              "      <th>0</th>\n",
              "      <td>[{'name': 'Ahmed Osman'}, {'name': 'Wojciech S...</td>\n",
              "      <td>1</td>\n",
              "      <td>1802.00209v1</td>\n",
              "      <td>[{'rel': 'alternate', 'href': 'http://arxiv.or...</td>\n",
              "      <td>2</td>\n",
              "      <td>We propose an architecture for VQA which utili...</td>\n",
              "      <td>[{'term': 'cs.AI', 'scheme': 'http://arxiv.org...</td>\n",
              "      <td>Dual Recurrent Attention Units for Visual Ques...</td>\n",
              "      <td>2018</td>\n",
              "    </tr>\n",
              "    <tr>\n",
              "      <th>1</th>\n",
              "      <td>[{'name': 'Ji Young Lee'}, {'name': 'Franck De...</td>\n",
              "      <td>12</td>\n",
              "      <td>1603.03827v1</td>\n",
              "      <td>[{'rel': 'alternate', 'href': 'http://arxiv.or...</td>\n",
              "      <td>3</td>\n",
              "      <td>Recent approaches based on artificial neural n...</td>\n",
              "      <td>[{'term': 'cs.CL', 'scheme': 'http://arxiv.org...</td>\n",
              "      <td>Sequential Short-Text Classification with Recu...</td>\n",
              "      <td>2016</td>\n",
              "    </tr>\n",
              "    <tr>\n",
              "      <th>2</th>\n",
              "      <td>[{'name': 'Iulian Vlad Serban'}, {'name': 'Tim...</td>\n",
              "      <td>2</td>\n",
              "      <td>1606.00776v2</td>\n",
              "      <td>[{'rel': 'alternate', 'href': 'http://arxiv.or...</td>\n",
              "      <td>6</td>\n",
              "      <td>We introduce the multiresolution recurrent neu...</td>\n",
              "      <td>[{'term': 'cs.CL', 'scheme': 'http://arxiv.org...</td>\n",
              "      <td>Multiresolution Recurrent Neural Networks: An ...</td>\n",
              "      <td>2016</td>\n",
              "    </tr>\n",
              "    <tr>\n",
              "      <th>3</th>\n",
              "      <td>[{'name': 'Sebastian Ruder'}, {'name': 'Joachi...</td>\n",
              "      <td>23</td>\n",
              "      <td>1705.08142v2</td>\n",
              "      <td>[{'rel': 'alternate', 'href': 'http://arxiv.or...</td>\n",
              "      <td>5</td>\n",
              "      <td>Multi-task learning is motivated by the observ...</td>\n",
              "      <td>[{'term': 'stat.ML', 'scheme': 'http://arxiv.o...</td>\n",
              "      <td>Learning what to share between loosely related...</td>\n",
              "      <td>2017</td>\n",
              "    </tr>\n",
              "    <tr>\n",
              "      <th>4</th>\n",
              "      <td>[{'name': 'Iulian V. Serban'}, {'name': 'Chinn...</td>\n",
              "      <td>7</td>\n",
              "      <td>1709.02349v2</td>\n",
              "      <td>[{'rel': 'alternate', 'href': 'http://arxiv.or...</td>\n",
              "      <td>9</td>\n",
              "      <td>We present MILABOT: a deep reinforcement learn...</td>\n",
              "      <td>[{'term': 'cs.CL', 'scheme': 'http://arxiv.org...</td>\n",
              "      <td>A Deep Reinforcement Learning Chatbot</td>\n",
              "      <td>2017</td>\n",
              "    </tr>\n",
              "  </tbody>\n",
              "</table>\n",
              "</div>"
            ],
            "text/plain": [
              "                                              author  ...  year\n",
              "0  [{'name': 'Ahmed Osman'}, {'name': 'Wojciech S...  ...  2018\n",
              "1  [{'name': 'Ji Young Lee'}, {'name': 'Franck De...  ...  2016\n",
              "2  [{'name': 'Iulian Vlad Serban'}, {'name': 'Tim...  ...  2016\n",
              "3  [{'name': 'Sebastian Ruder'}, {'name': 'Joachi...  ...  2017\n",
              "4  [{'name': 'Iulian V. Serban'}, {'name': 'Chinn...  ...  2017\n",
              "\n",
              "[5 rows x 9 columns]"
            ]
          },
          "metadata": {
            "tags": []
          },
          "execution_count": 4
        }
      ]
    },
    {
      "cell_type": "code",
      "metadata": {
        "id": "KrFAk3gm936L"
      },
      "source": [
        "lines = data.apply(lambda row: (row['title'] + ';' + row['summary'])[:512], axis=1).apply(lambda line: BOS + line.replace(EOS, ' ') + EOS).tolist()"
      ],
      "execution_count": null,
      "outputs": []
    },
    {
      "cell_type": "code",
      "metadata": {
        "colab": {
          "base_uri": "https://localhost:8080/",
          "height": 85
        },
        "id": "80Z1jj2X1BGj",
        "outputId": "5815b565-3346-44df-a19c-2cb2278854f3"
      },
      "source": [
        "lines[0]"
      ],
      "execution_count": null,
      "outputs": [
        {
          "output_type": "execute_result",
          "data": {
            "application/vnd.google.colaboratory.intrinsic+json": {
              "type": "string"
            },
            "text/plain": [
              "' Dual Recurrent Attention Units for Visual Question Answering;We propose an architecture for VQA which utilizes recurrent layers to generate visual and textual attention. The memory characteristic of the proposed recurrent attention units offers a rich joint embedding of visual and textual features and enables the model to reason relations between several parts of the image and question. Our single model outperforms the first place winner on the VQA 1.0 dataset, performs within margin to the current state-of\\n'"
            ]
          },
          "metadata": {
            "tags": []
          },
          "execution_count": 6
        }
      ]
    },
    {
      "cell_type": "code",
      "metadata": {
        "id": "bVEObq2v_WJc",
        "colab": {
          "base_uri": "https://localhost:8080/"
        },
        "outputId": "752d25c8-2773-42e4-ef34-0f45918ac176"
      },
      "source": [
        "# get all unique characters from lines (including capital letters and symbols)\r\n",
        "tokens = np.unique(list(' '.join(lines)))\r\n",
        "\r\n",
        "tokens = sorted(tokens)\r\n",
        "n_tokens = len(tokens)\r\n",
        "print ('n_tokens = ',n_tokens)\r\n",
        "assert 100 < n_tokens < 150\r\n",
        "assert BOS in tokens, EOS in tokens"
      ],
      "execution_count": null,
      "outputs": [
        {
          "output_type": "stream",
          "text": [
            "n_tokens =  136\n"
          ],
          "name": "stdout"
        }
      ]
    },
    {
      "cell_type": "code",
      "metadata": {
        "id": "t1xdtnUvA7Mm"
      },
      "source": [
        "# dictionary of character -> its identifier (index in tokens list)\r\n",
        "token_to_id = {token : idx for idx, token in enumerate(tokens)}"
      ],
      "execution_count": null,
      "outputs": []
    },
    {
      "cell_type": "code",
      "metadata": {
        "id": "bNWEgbt9BS0F",
        "colab": {
          "base_uri": "https://localhost:8080/"
        },
        "outputId": "132a86d6-bc2c-419f-fdd1-25c0faca5fa2"
      },
      "source": [
        "assert len(tokens) == len(token_to_id), \"dictionaries must have same size\"\r\n",
        "for i in range(n_tokens):\r\n",
        "    assert token_to_id[tokens[i]] == i, \"token identifier must be it's position in tokens list\"\r\n",
        "\r\n",
        "print(\"Seems alright!\")"
      ],
      "execution_count": null,
      "outputs": [
        {
          "output_type": "stream",
          "text": [
            "Seems alright!\n"
          ],
          "name": "stdout"
        }
      ]
    },
    {
      "cell_type": "code",
      "metadata": {
        "id": "Q1k40WjiBYXA"
      },
      "source": [
        "def to_matrix(lines, max_len=None, pad=token_to_id[EOS], dtype = 'int32'):\r\n",
        "  max_len = max_len or max(map(len, lines))\r\n",
        "  lines_ix = np.zeros([len(lines), max_len], dtype) + pad\r\n",
        "  for i in range(len(lines)):\r\n",
        "    line_ix = list(map(token_to_id.get, lines[i][:max_len]))\r\n",
        "    lines_ix[i, :len(line_ix)] = line_ix\r\n",
        "  return lines_ix"
      ],
      "execution_count": null,
      "outputs": []
    },
    {
      "cell_type": "code",
      "metadata": {
        "id": "kqQcYgeIYH3n",
        "colab": {
          "base_uri": "https://localhost:8080/"
        },
        "outputId": "29fe1f98-c1fe-4e4c-c5e7-ae82e0af5410"
      },
      "source": [
        "dummy_lines = [\r\n",
        "    ' abc\\n',\r\n",
        "    ' abacaba\\n',\r\n",
        "    ' abc1234567890\\n',\r\n",
        "]\r\n",
        "print(to_matrix(dummy_lines))"
      ],
      "execution_count": null,
      "outputs": [
        {
          "output_type": "stream",
          "text": [
            "[[ 1 66 67 68  0  0  0  0  0  0  0  0  0  0  0]\n",
            " [ 1 66 67 66 68 66 67 66  0  0  0  0  0  0  0]\n",
            " [ 1 66 67 68 18 19 20 21 22 23 24 25 26 17  0]]\n"
          ],
          "name": "stdout"
        }
      ]
    },
    {
      "cell_type": "code",
      "metadata": {
        "id": "tO2wpO96YKl8"
      },
      "source": [
        "import torch\r\n",
        "import torch.nn as nn\r\n",
        "import torch.nn.functional as F"
      ],
      "execution_count": null,
      "outputs": []
    },
    {
      "cell_type": "code",
      "metadata": {
        "id": "1cEbae2G37MK"
      },
      "source": [
        "stride = 1\r\n",
        "kernel_size = 5\r\n",
        "emb_size = 16\r\n",
        "hid_size = 64\r\n",
        "emb = nn.Embedding(num_embeddings = len(tokens), embedding_dim = emb_size)\r\n",
        "pad = nn.ZeroPad2d(stride * (kernel_size - 1))\r\n",
        "conv1 = nn.Conv1d(in_channels=emb_size, out_channels=hid_size,stride=stride, padding=0, kernel_size=kernel_size)"
      ],
      "execution_count": null,
      "outputs": []
    },
    {
      "cell_type": "code",
      "metadata": {
        "id": "M3An2R6N4bx-",
        "colab": {
          "base_uri": "https://localhost:8080/"
        },
        "outputId": "6d90a0cc-eab5-4b0d-a34b-78fdb9497f62"
      },
      "source": [
        "dummy_input_ix = torch.as_tensor(to_matrix(dummy_lines)).type(torch.LongTensor)\r\n",
        "print(dummy_input_ix.shape)\r\n",
        "embedding = emb(dummy_input_ix)\r\n",
        "embedding.shape"
      ],
      "execution_count": null,
      "outputs": [
        {
          "output_type": "stream",
          "text": [
            "torch.Size([3, 15])\n"
          ],
          "name": "stdout"
        },
        {
          "output_type": "execute_result",
          "data": {
            "text/plain": [
              "torch.Size([3, 15, 16])"
            ]
          },
          "metadata": {
            "tags": []
          },
          "execution_count": 14
        }
      ]
    },
    {
      "cell_type": "code",
      "metadata": {
        "id": "qtvbvmCOYYOr"
      },
      "source": [
        "class FixedWindowLanguageModel(nn.Module):\r\n",
        "    def __init__(self, n_tokens=n_tokens, emb_size=16, hid_size=64):\r\n",
        "        \"\"\" \r\n",
        "        A fixed window model that looks on at least 5 previous symbols.\r\n",
        "        \r\n",
        "        Note: fixed window LM is effectively performing a convolution over a sequence of words.\r\n",
        "        This convolution only looks on current and previous words.\r\n",
        "        Such convolution can be represented as a sequence of 2 operations:\r\n",
        "        - pad input vectors by {strides * (filter_size - 1)} zero vectors on the \"left\", do not pad right\r\n",
        "        - perform regular convolution with {filter_size} and {strides}\r\n",
        "        \r\n",
        "        - If you're absolutely lost, here's a hint: use nn.ZeroPad2d((NUM_LEADING_ZEROS, 0, 0, 0))\r\n",
        "          followed by a nn.Conv1d(..., padding=0). And yes, its okay that padding is technically \"2d\".\r\n",
        "        \"\"\"\r\n",
        "        super().__init__() # initialize base class to track sub-layers, trainable variables, etc.\r\n",
        "        \r\n",
        "        self.stride = 1\r\n",
        "        kernel_size = 5\r\n",
        "        self.emb = nn.Embedding(num_embeddings = len(tokens), embedding_dim = emb_size)\r\n",
        "        self.pad = nn.ZeroPad2d((stride * (kernel_size - 1), 0, 0, 0))\r\n",
        "        self.conv1 = nn.Conv1d(in_channels=emb_size, out_channels=hid_size,stride=self.stride, padding=0, kernel_size=kernel_size)\r\n",
        "        self.act = nn.ReLU()\r\n",
        "        self.linear = nn.Linear(hid_size, len(tokens))\r\n",
        "    \r\n",
        "    def __call__(self, input_ix):\r\n",
        "        \"\"\"\r\n",
        "        compute language model logits given input tokens\r\n",
        "        :param input_ix: batch of sequences with token indices, tensor: int32[batch_size, sequence_length]\r\n",
        "        :returns: pre-softmax linear outputs of language model [batch_size, sequence_length, n_tokens]\r\n",
        "            these outputs will be used as logits to compute P(x_t | x_0, ..., x_{t - 1})\r\n",
        "            \r\n",
        "        :note: that convolutions operate with tensors of shape [batch, channels, length], while linear layers\r\n",
        "         and *embeddings* use [batch, length, channels] tensors. Use tensor.permute(...) to adjust shapes.\r\n",
        "\r\n",
        "        \"\"\"\r\n",
        "        embedding = self.emb(input_ix)\r\n",
        "        embedding = embedding.permute(0,2,1)\r\n",
        "        padded = self.pad(embedding)\r\n",
        "        conv = self.conv1(padded)\r\n",
        "        activated = self.act(conv)\r\n",
        "        output = self.linear(activated.permute(0,2,1))\r\n",
        "        \r\n",
        "        return output # output tensor should be of shape [batch_size, sequence_length, n_tokens]\r\n",
        "    \r\n",
        "    def get_possible_next_tokens(self, prefix=BOS, temperature=1.0, max_len=100):\r\n",
        "        \"\"\" :returns: probabilities of next token, dict {token : prob} for all tokens \"\"\"\r\n",
        "        prefix_ix = torch.as_tensor(to_matrix([prefix]), dtype=torch.int64).to(\"cuda\")\r\n",
        "        with torch.no_grad():\r\n",
        "            probs = torch.softmax(self(prefix_ix)[0, -1], dim=-1).cpu().numpy()  # shape: [n_tokens]\r\n",
        "        return dict(zip(tokens, probs))"
      ],
      "execution_count": null,
      "outputs": []
    },
    {
      "cell_type": "code",
      "metadata": {
        "id": "5AG7ugED46wp",
        "colab": {
          "base_uri": "https://localhost:8080/"
        },
        "outputId": "08d8f528-98c8-4968-9735-cc61d514d37b"
      },
      "source": [
        "dummy_model = FixedWindowLanguageModel().to(\"cuda\")\r\n",
        "\r\n",
        "dummy_input_ix = torch.as_tensor(to_matrix(dummy_lines)).type(torch.LongTensor).to(\"cuda\")\r\n",
        "dummy_logits = dummy_model(dummy_input_ix)\r\n",
        "\r\n",
        "print('Weights:', tuple(name for name, w in dummy_model.named_parameters()))"
      ],
      "execution_count": null,
      "outputs": [
        {
          "output_type": "stream",
          "text": [
            "Weights: ('emb.weight', 'conv1.weight', 'conv1.bias', 'linear.weight', 'linear.bias')\n"
          ],
          "name": "stdout"
        }
      ]
    },
    {
      "cell_type": "code",
      "metadata": {
        "id": "5SBxnSIk7itj"
      },
      "source": [
        "assert isinstance(dummy_logits, torch.Tensor)\r\n",
        "assert dummy_logits.shape == (len(dummy_lines), max(map(len, dummy_lines)), n_tokens), \"please check output shape\"\r\n",
        "assert np.all(np.isfinite(dummy_logits.data.cpu().numpy())), \"inf/nan encountered\"\r\n",
        "assert not np.allclose(dummy_logits.data.cpu().numpy().sum(-1), 1), \"please predict linear outputs, don't use softmax (maybe you've just got unlucky)\""
      ],
      "execution_count": null,
      "outputs": []
    },
    {
      "cell_type": "code",
      "metadata": {
        "id": "25uyFMD87kF4"
      },
      "source": [
        "# test for lookahead\r\n",
        "dummy_input_ix_2 = torch.as_tensor(to_matrix([line[:3] + 'e' * (len(line) - 3) for line in dummy_lines])).type(torch.LongTensor).to(\"cuda\")\r\n",
        "dummy_logits_2 = dummy_model(dummy_input_ix_2)\r\n",
        "\r\n",
        "assert torch.allclose(dummy_logits[:, :3], dummy_logits_2[:, :3]), \"your model's predictions depend on FUTURE tokens. \" \\\r\n",
        "    \" Make sure you don't allow any layers to look ahead of current token.\" \\\r\n",
        "    \" You can also get this error if your model is not deterministic (e.g. dropout). Disable it for this test.\""
      ],
      "execution_count": null,
      "outputs": []
    },
    {
      "cell_type": "code",
      "metadata": {
        "id": "G_AamkF67y_L",
        "colab": {
          "base_uri": "https://localhost:8080/"
        },
        "outputId": "d6b379a2-9393-4efa-ae3c-78c836094f74"
      },
      "source": [
        "def compute_mask(input_ix, eos_ix=token_to_id[EOS]):\r\n",
        "    \"\"\" compute a boolean mask that equals \"1\" until first EOS (including that EOS) \"\"\"\r\n",
        "    return F.pad(torch.cumsum(input_ix == eos_ix, dim=-1)[..., :-1] < 1, pad=(1, 0, 0, 0), value=True)\r\n",
        "\r\n",
        "print('matrix:\\n', dummy_input_ix.cpu().numpy())\r\n",
        "print('mask:', compute_mask(dummy_input_ix).to(torch.int32).cpu().numpy())\r\n",
        "print('lengths:', compute_mask(dummy_input_ix).sum(-1).cpu().numpy())"
      ],
      "execution_count": null,
      "outputs": [
        {
          "output_type": "stream",
          "text": [
            "matrix:\n",
            " [[ 1 66 67 68  0  0  0  0  0  0  0  0  0  0  0]\n",
            " [ 1 66 67 66 68 66 67 66  0  0  0  0  0  0  0]\n",
            " [ 1 66 67 68 18 19 20 21 22 23 24 25 26 17  0]]\n",
            "mask: [[1 1 1 1 1 0 0 0 0 0 0 0 0 0 0]\n",
            " [1 1 1 1 1 1 1 1 1 0 0 0 0 0 0]\n",
            " [1 1 1 1 1 1 1 1 1 1 1 1 1 1 1]]\n",
            "lengths: [ 5  9 15]\n"
          ],
          "name": "stdout"
        }
      ]
    },
    {
      "cell_type": "markdown",
      "metadata": {
        "id": "a_UsVc7DX64A"
      },
      "source": [
        "We can now tune our network's parameters to minimize categorical crossentropy over training dataset $D$:\r\n",
        "\r\n",
        "$$ L = {\\frac1{|D|}} \\sum_{X \\in D} \\sum_{x_i \\in X} - \\log p(x_t \\mid x_1, \\dots, x_{t-1}, \\theta) $$\r\n",
        "As usual with with neural nets, this optimization is performed via stochastic gradient descent with backprop. One can also note that minimizing crossentropy is equivalent to minimizing model perplexity, KL-divergence or maximizng log-likelihood.\r\n"
      ]
    },
    {
      "cell_type": "code",
      "metadata": {
        "id": "a-JokK8V73kz"
      },
      "source": [
        "def compute_loss(model, input_ix):\r\n",
        "    \"\"\"\r\n",
        "    :param model: language model that can compute next token logits given token indices\r\n",
        "    :param input ix: int32 matrix of tokens, shape: [batch_size, length]; padded with eos_ix\r\n",
        "    :returns: scalar loss function, mean crossentropy over non-eos tokens\r\n",
        "    \"\"\"\r\n",
        "    input_ix = torch.as_tensor(input_ix, dtype=torch.int64).to(\"cuda\")\r\n",
        "    \r\n",
        "\r\n",
        "    logits = model(input_ix[:, :-1])\r\n",
        "    reference_answers = input_ix[:, 1:]\r\n",
        "    probs = torch.softmax(logits, dim=-1)\r\n",
        "\r\n",
        "    reference_answers_ohe = F.one_hot(reference_answers, num_classes=n_tokens)\r\n",
        "    mask = torch.as_tensor(compute_mask(input_ix), dtype=torch.int64)[:,1:]\r\n",
        "\r\n",
        "    lengths = torch.sub(compute_mask(dummy_input_ix).sum(-1), 1)    \r\n",
        "    multiply_probs = torch.mul(reference_answers_ohe, probs)\r\n",
        "    probs_true_symbols, _ = torch.max(multiply_probs, axis=-1)\r\n",
        "\r\n",
        "    log_probs = torch.log(probs_true_symbols)\r\n",
        "    log_probs_end = torch.mul(log_probs, mask)\r\n",
        "\r\n",
        "    sum_probs = torch.sum(log_probs_end, axis=-1)\r\n",
        "    loss = -torch.mean(sum_probs)\r\n",
        "    \r\n",
        "    return loss"
      ],
      "execution_count": null,
      "outputs": []
    },
    {
      "cell_type": "code",
      "metadata": {
        "id": "0WhNCC9i7-Ap"
      },
      "source": [
        "loss_1 = compute_loss(dummy_model, to_matrix(dummy_lines, max_len=15))\r\n",
        "loss_2 = compute_loss(dummy_model, to_matrix(dummy_lines, max_len=16))\r\n",
        "assert (np.ndim(loss_1) == 0) and (0 < loss_1 < 100), \"loss must be a positive scalar\"\r\n",
        "assert torch.allclose(loss_1, loss_2), 'do not include  AFTER first EOS into loss. '\\\r\n",
        "    'Hint: use compute_mask. Beware +/-1 errors. And be careful when averaging!'"
      ],
      "execution_count": null,
      "outputs": []
    },
    {
      "cell_type": "code",
      "metadata": {
        "id": "sz5pF_l48AhV"
      },
      "source": [
        "def score_lines(model, dev_lines, batch_size):\r\n",
        "    \"\"\" computes average loss over the entire dataset \"\"\"\r\n",
        "    dev_loss_num, dev_loss_len = 0., 0.\r\n",
        "    with torch.no_grad():\r\n",
        "        for i in range(0, len(dev_lines), batch_size):\r\n",
        "            batch_ix = to_matrix(dev_lines[i: i + batch_size])\r\n",
        "            dev_loss_num += compute_loss(model, batch_ix).item() * len(batch_ix)\r\n",
        "            dev_loss_len += len(batch_ix)\r\n",
        "    return dev_loss_num / dev_loss_len\r\n",
        "\r\n",
        "def generate(model, prefix=BOS, temperature=1.0, max_len=100):\r\n",
        "    \"\"\"\r\n",
        "    Samples output sequence from probability distribution obtained by model\r\n",
        "    :param temperature: samples proportionally to model probabilities ^ temperature\r\n",
        "        if temperature == 0, always takes most likely token. Break ties arbitrarily.\r\n",
        "    \"\"\"\r\n",
        "    with torch.no_grad():\r\n",
        "        while True:\r\n",
        "            token_probs = model.get_possible_next_tokens(prefix)\r\n",
        "            tokens, probs = zip(*token_probs.items())\r\n",
        "            if temperature == 0:\r\n",
        "                next_token = tokens[np.argmax(probs)]\r\n",
        "            else:\r\n",
        "                probs = np.array([p ** (1. / temperature) for p in probs])\r\n",
        "                probs /= sum(probs)\r\n",
        "                next_token = np.random.choice(tokens, p=probs)\r\n",
        "\r\n",
        "            prefix += next_token\r\n",
        "            if next_token == EOS or len(prefix) > max_len: break\r\n",
        "    return prefix"
      ],
      "execution_count": null,
      "outputs": []
    },
    {
      "cell_type": "code",
      "metadata": {
        "id": "p5_14Fnn8FqD",
        "colab": {
          "base_uri": "https://localhost:8080/"
        },
        "outputId": "93b73981-e4f6-441e-b91d-5e5bb546e6a5"
      },
      "source": [
        "from sklearn.model_selection import train_test_split\r\n",
        "train_lines, dev_lines = train_test_split(lines, test_size=0.25, random_state=42)\r\n",
        "\r\n",
        "batch_size = 256\r\n",
        "score_dev_every = 250\r\n",
        "train_history, dev_history = [], []\r\n",
        "model = FixedWindowLanguageModel().to(\"cuda\")\r\n",
        "opt = torch.optim.Adam(model.parameters())\r\n",
        "# score untrained model\r\n",
        "dev_history.append((0, score_lines(model, dev_lines, batch_size)))\r\n",
        "print(\"Sample before training:\", generate(model, ' Bridging'))"
      ],
      "execution_count": null,
      "outputs": [
        {
          "output_type": "stream",
          "text": [
            "Sample before training:  Bridging0\n",
            "\n"
          ],
          "name": "stdout"
        }
      ]
    },
    {
      "cell_type": "code",
      "metadata": {
        "id": "I1WB6cRK8J4X",
        "colab": {
          "base_uri": "https://localhost:8080/",
          "height": 382
        },
        "outputId": "d75f2f98-0e80-4d88-b910-a3262e968ca2"
      },
      "source": [
        "from IPython.display import clear_output\r\n",
        "from random import sample\r\n",
        "from tqdm import trange\r\n",
        "\r\n",
        "for i in trange(len(train_history), 5000):\r\n",
        "    batch = to_matrix(sample(train_lines, batch_size))\r\n",
        "    \r\n",
        "    \r\n",
        "    loss_i = compute_loss(model, batch)\r\n",
        "    \r\n",
        "    opt.zero_grad()\r\n",
        "    loss_i.backward()\r\n",
        "    opt.step()\r\n",
        "        \r\n",
        "    train_history.append((i, loss_i.item()))\r\n",
        "    \r\n",
        "    if (i + 1) % 50 == 0:\r\n",
        "        clear_output(True)\r\n",
        "        plt.scatter(*zip(*train_history), alpha=0.1, label='train_loss')\r\n",
        "        if len(dev_history):\r\n",
        "            plt.plot(*zip(*dev_history), color='red', label='dev_loss')\r\n",
        "        plt.legend(); plt.grid(); plt.show()\r\n",
        "        print(\"Generated examples (tau=0.5):\")\r\n",
        "        for _ in range(3):\r\n",
        "            print(generate(model, temperature=0.5))\r\n",
        "    \r\n",
        "    if (i + 1) % score_dev_every == 0:\r\n",
        "        print(\"Scoring dev...\")\r\n",
        "        dev_history.append((i, score_lines(model, dev_lines, batch_size)))\r\n",
        "        print('#%i Dev loss: %.3f' % dev_history[-1])"
      ],
      "execution_count": null,
      "outputs": [
        {
          "output_type": "display_data",
          "data": {
            "image/png": "[encoded data removed]",
            "text/plain": [
              "<Figure size 432x288 with 1 Axes>"
            ]
          },
          "metadata": {
            "tags": [],
            "needs_background": "light"
          }
        },
        {
          "output_type": "stream",
          "text": [
            "Generated examples (tau=0.5):\n",
            " Sement sough as a propose and and resentation distoration and to the problems of contic problem of o\n",
            " Pranding of a firely in extime describution and model to introductirization of the process the of th\n",
            " Asy of exple of the number of the and problems in image denelation of the actiract to elass for Requ\n",
            "Scoring dev...\n"
          ],
          "name": "stdout"
        },
        {
          "output_type": "stream",
          "text": [
            "\r100%|██████████| 5000/5000 [03:48<00:00, 21.86it/s]"
          ],
          "name": "stderr"
        },
        {
          "output_type": "stream",
          "text": [
            "#4999 Dev loss: 844.433\n"
          ],
          "name": "stdout"
        },
        {
          "output_type": "stream",
          "text": [
            "\n"
          ],
          "name": "stderr"
        }
      ]
    },
    {
      "cell_type": "code",
      "metadata": {
        "id": "_Kcw2dMZ8OHz",
        "colab": {
          "base_uri": "https://localhost:8080/"
        },
        "outputId": "92d3e921-2bec-44cc-f0f2-482b55997e6c"
      },
      "source": [
        "assert np.mean(train_history[:10], axis=0)[1] > np.mean(train_history[-10:], axis=0)[1], \"The model didn't converge.\"\r\n",
        "print(\"Final dev loss:\", dev_history[-1][-1])\r\n",
        "\r\n",
        "for i in range(10):\r\n",
        "    print(generate(model, temperature=0.5))"
      ],
      "execution_count": null,
      "outputs": [
        {
          "output_type": "stream",
          "text": [
            "Final dev loss: 844.4330937857279\n",
            " An Propose a siming computation in the spert and and Biscriptions word the closity and reporternativ\n",
            " Generative and a simple are for the complexing and has betworks in the proposed or the interal netwo\n",
            " Face interce and distrian algorithm and constracters, of the its and varial and depresentation of th\n",
            " As set of the sentation of problem of the station is deprach an algorithm language based on the a fo\n",
            " Model to the simple implese extration and the depresent and in sualing of the to noth segmentional p\n",
            " Deep conves of the problem (notime automation for in the neural speration based on the sets and mode\n",
            " decigramems the inters the are the contertive of Many resers to model the intermation algorithm inte\n",
            " Interes and the the sterting in the hight sets the to in the genet proposed commancal systems we gen\n",
            " Adalosides the the consideriate of the propically date of the to the semorametrication relefine scal\n",
            " Amploration and haret analysis of set of the dection is the marred to age and the appriation and is \n"
          ],
          "name": "stdout"
        }
      ]
    },
    {
      "cell_type": "markdown",
      "metadata": {
        "id": "V7R3faHafdxr"
      },
      "source": [
        "RNN Language Models (3 points including training)\r\n",
        "Fixed-size architectures are reasonably good when capturing short-term dependencies, but their design prevents them from capturing any signal outside their window. We can mitigate this problem by using a recurrent neural network:\r\n",
        "\r\n",
        "$$ h_0 = \\vec 0 ; \\quad h_{t+1} = RNN(x_t, h_t) $$$$ p(x_t \\mid x_0, \\dots, x_{t-1}, \\theta) = dense_{softmax}(h_{t-1}) $$\r\n",
        "Such model processes one token at a time, left to right, and maintains a hidden state vector between them. Theoretically, it can learn arbitrarily long temporal dependencies given large enough hidden size.\r\n",
        "\r\n"
      ]
    },
    {
      "cell_type": "code",
      "metadata": {
        "id": "hA5eFuKDENds"
      },
      "source": [
        "class RNNLanguageModel(nn.Module):\r\n",
        "    def __init__(self, n_tokens=len(tokens), emb_size=16, hid_size=256, num_layers = 2):\r\n",
        "        \"\"\" \r\n",
        "        Build a recurrent language model.\r\n",
        "        You are free to choose anything you want, but the recommended architecture is\r\n",
        "        - token embeddings\r\n",
        "        - one or more LSTM/GRU layers with hid size\r\n",
        "        - linear layer to predict logits\r\n",
        "        \r\n",
        "        :note: if you use nn.RNN/GRU/LSTM, make sure you specify batch_first=True\r\n",
        "         With batch_first, your model operates with tensors of shape [batch_size, sequence_length, num_units]\r\n",
        "         Also, please read the docs carefully: they don't just return what you want them to return :)\r\n",
        "        \"\"\"\r\n",
        "        self.num_layers = num_layers\r\n",
        "        self.hidden_size = hid_size\r\n",
        "        super().__init__() # initialize base class to track sub-layers, trainable variables, etc.\r\n",
        "        self.emb = nn.Embedding(num_embeddings = n_tokens, embedding_dim = emb_size)\r\n",
        "        self.lstm = nn.LSTM(emb_size, self.hidden_size, num_layers = self.num_layers, batch_first = True) #\r\n",
        "        self.out = nn.Linear(self.hidden_size, n_tokens)\r\n",
        "    \r\n",
        "    def __call__(self, input_ix):\r\n",
        "        \"\"\"\r\n",
        "        compute language model logits given input tokens\r\n",
        "        :param input_ix: batch of sequences with token indices, tensor: int32[batch_size, sequence_length]\r\n",
        "        :returns: pre-softmax linear outputs of language model [batch_size, sequence_length, n_tokens]\r\n",
        "            these outputs will be used as logits to compute P(x_t | x_0, ..., x_{t - 1})\r\n",
        "        \"\"\"\r\n",
        "        h0 = torch.zeros(self.num_layers, input_ix.size(0), self.hidden_size).to(\"cuda\")\r\n",
        "        c0 = torch.zeros(self.num_layers, input_ix.size(0), self.hidden_size).to(\"cuda\")\r\n",
        "        embedding = self.emb(input_ix)\r\n",
        "        output, _ = self.lstm(embedding, (h0,c0))\r\n",
        "        output1 = self.out(output)\r\n",
        "        final_output = torch.logit(output1)\r\n",
        "\r\n",
        "        return output1 # output tensor should be of shape [batch_size, sequence_length, n_tokens]\r\n",
        "    \r\n",
        "    def get_possible_next_tokens(self, prefix=BOS, temperature=1.0, max_len=100):\r\n",
        "        \"\"\" :returns: probabilities of next token, dict {token : prob} for all tokens \"\"\"\r\n",
        "        prefix_ix = torch.as_tensor(to_matrix([prefix]), dtype=torch.int64).to(\"cuda\")\r\n",
        "        with torch.no_grad():\r\n",
        "            probs = torch.softmax(self(prefix_ix)[0, -1], dim=-1).cpu().numpy()  # shape: [n_tokens]\r\n",
        "        return dict(zip(tokens, probs))"
      ],
      "execution_count": null,
      "outputs": []
    },
    {
      "cell_type": "code",
      "metadata": {
        "id": "v4xRetw1NXjf"
      },
      "source": [
        "model = RNNLanguageModel()\r\n",
        "\r\n",
        "dummy_input_ix = torch.as_tensor(to_matrix(dummy_lines)).type(torch.LongTensor)\r\n",
        "dummy_logits = model(dummy_input_ix)"
      ],
      "execution_count": null,
      "outputs": []
    },
    {
      "cell_type": "code",
      "metadata": {
        "colab": {
          "base_uri": "https://localhost:8080/"
        },
        "id": "1KPbVwqtYhX_",
        "outputId": "6923fd48-5891-4b52-fc7a-ae096e885c58"
      },
      "source": [
        "def compute_mask(input_ix, eos_ix=token_to_id[EOS]):\r\n",
        "    \"\"\" compute a boolean mask that equals \"1\" until first EOS (including that EOS) \"\"\"\r\n",
        "    return F.pad(torch.cumsum(input_ix == eos_ix, dim=-1)[..., :-1] < 1, pad=(1, 0, 0, 0), value=True)\r\n",
        "\r\n",
        "print('matrix:\\n', dummy_input_ix.numpy())\r\n",
        "print('mask:', compute_mask(dummy_input_ix).to(torch.int32).cpu().numpy())\r\n",
        "print('lengths:', compute_mask(dummy_input_ix).sum(-1).cpu().numpy())"
      ],
      "execution_count": null,
      "outputs": [
        {
          "output_type": "stream",
          "text": [
            "matrix:\n",
            " [[ 1 66 67 68  0  0  0  0  0  0  0  0  0  0  0]\n",
            " [ 1 66 67 66 68 66 67 66  0  0  0  0  0  0  0]\n",
            " [ 1 66 67 68 18 19 20 21 22 23 24 25 26 17  0]]\n",
            "mask: [[1 1 1 1 1 0 0 0 0 0 0 0 0 0 0]\n",
            " [1 1 1 1 1 1 1 1 1 0 0 0 0 0 0]\n",
            " [1 1 1 1 1 1 1 1 1 1 1 1 1 1 1]]\n",
            "lengths: [ 5  9 15]\n"
          ],
          "name": "stdout"
        }
      ]
    },
    {
      "cell_type": "code",
      "metadata": {
        "id": "bFAI0oocEWMQ",
        "colab": {
          "base_uri": "https://localhost:8080/"
        },
        "outputId": "8276dacf-f500-45cd-b370-9bf7ea930e31"
      },
      "source": [
        "model = RNNLanguageModel()\r\n",
        "\r\n",
        "dummy_input_ix = torch.as_tensor(to_matrix(dummy_lines)).type(torch.LongTensor)\r\n",
        "dummy_logits = model(dummy_input_ix)\r\n",
        "\r\n",
        "assert isinstance(dummy_logits, torch.Tensor)\r\n",
        "assert dummy_logits.shape == (len(dummy_lines), max(map(len, dummy_lines)), n_tokens), \"please check output shape\"\r\n",
        "assert not np.allclose(dummy_logits.cpu().data.numpy().sum(-1), 1), \"please predict linear outputs, don't use softmax (maybe you've just got unlucky)\"\r\n",
        "print('Weights:', tuple(name for name, w in model.named_parameters()))"
      ],
      "execution_count": null,
      "outputs": [
        {
          "output_type": "stream",
          "text": [
            "Weights: ('emb.weight', 'lstm.weight_ih_l0', 'lstm.weight_hh_l0', 'lstm.bias_ih_l0', 'lstm.bias_hh_l0', 'lstm.weight_ih_l1', 'lstm.weight_hh_l1', 'lstm.bias_ih_l1', 'lstm.bias_hh_l1', 'out.weight', 'out.bias')\n"
          ],
          "name": "stdout"
        }
      ]
    },
    {
      "cell_type": "code",
      "metadata": {
        "id": "jm0lgfFMEZK4"
      },
      "source": [
        "# test for lookahead\r\n",
        "dummy_input_ix_2 = torch.as_tensor(to_matrix([line[:3] + 'e' * (len(line) - 3) for line in dummy_lines])).type(torch.LongTensor)\r\n",
        "dummy_logits_2 = model(dummy_input_ix_2)\r\n",
        "\r\n",
        "assert torch.allclose(dummy_logits[:, :3], dummy_logits_2[:, :3]), \"your model's predictions depend on FUTURE tokens. \" \\\r\n",
        "    \" Make sure you don't allow any layers to look ahead of current token.\" \\\r\n",
        "    \" You can also get this error if your model is not deterministic (e.g. dropout). Disable it for this test.\""
      ],
      "execution_count": null,
      "outputs": []
    },
    {
      "cell_type": "code",
      "metadata": {
        "id": "DE7XsZ8vYwIx"
      },
      "source": [
        "def compute_loss(model, input_ix):\r\n",
        "    \"\"\"\r\n",
        "    :param model: language model that can compute next token logits given token indices\r\n",
        "    :param input ix: int32 matrix of tokens, shape: [batch_size, length]; padded with eos_ix\r\n",
        "    :returns: scalar loss function, mean crossentropy over non-eos tokens\r\n",
        "    \"\"\"\r\n",
        "    input_ix = torch.as_tensor(input_ix, dtype=torch.int64).to(\"cuda\")\r\n",
        "    \r\n",
        "\r\n",
        "    logits = model(input_ix[:, :-1])\r\n",
        "    reference_answers = input_ix[:, 1:]\r\n",
        "    probs = torch.softmax(logits, dim=-1)\r\n",
        "\r\n",
        "    reference_answers_ohe = F.one_hot(reference_answers, num_classes=n_tokens)\r\n",
        "    mask = torch.as_tensor(compute_mask(input_ix), dtype=torch.int64)[:,1:]\r\n",
        "\r\n",
        "    lengths = torch.sub(compute_mask(dummy_input_ix).sum(-1), 1)\r\n",
        "    multiply_probs = torch.mul(reference_answers_ohe, probs)\r\n",
        "    probs_true_symbols, _ = torch.max(multiply_probs, axis=-1)\r\n",
        "\r\n",
        "    log_probs = torch.log(probs_true_symbols)\r\n",
        "    log_probs_end = torch.mul(log_probs, mask)\r\n",
        "    sum_probs = torch.sum(log_probs_end, axis=-1)\r\n",
        "    loss = -torch.mean(sum_probs)\r\n",
        "    \r\n",
        "    return loss"
      ],
      "execution_count": null,
      "outputs": []
    },
    {
      "cell_type": "code",
      "metadata": {
        "id": "x-J1dPsIYxsB"
      },
      "source": [
        "def score_lines(model, dev_lines, batch_size):\r\n",
        "    \"\"\" computes average loss over the entire dataset \"\"\"\r\n",
        "    dev_loss_num, dev_loss_len = 0., 0.\r\n",
        "    with torch.no_grad():\r\n",
        "        for i in range(0, len(dev_lines), batch_size):\r\n",
        "            batch_ix = to_matrix(dev_lines[i: i + batch_size])\r\n",
        "            dev_loss_num += compute_loss(model, batch_ix).item() * len(batch_ix)\r\n",
        "            dev_loss_len += len(batch_ix)\r\n",
        "    return dev_loss_num / dev_loss_len\r\n",
        "\r\n",
        "def generate(model, prefix=BOS, temperature=1.0, max_len=100):\r\n",
        "    \"\"\"\r\n",
        "    Samples output sequence from probability distribution obtained by model\r\n",
        "    :param temperature: samples proportionally to model probabilities ^ temperature\r\n",
        "        if temperature == 0, always takes most likely token. Break ties arbitrarily.\r\n",
        "    \"\"\"\r\n",
        "    with torch.no_grad():\r\n",
        "        while True:\r\n",
        "            token_probs = model.get_possible_next_tokens(prefix)\r\n",
        "            tokens, probs = zip(*token_probs.items())\r\n",
        "            if temperature == 0:\r\n",
        "                next_token = tokens[np.argmax(probs)]\r\n",
        "            else:\r\n",
        "                probs = np.array([p ** (1. / temperature) for p in probs])\r\n",
        "                probs /= sum(probs)\r\n",
        "                next_token = np.random.choice(tokens, p=probs)\r\n",
        "\r\n",
        "            prefix += next_token\r\n",
        "            if next_token == EOS or len(prefix) > max_len: break\r\n",
        "    return prefix"
      ],
      "execution_count": null,
      "outputs": []
    },
    {
      "cell_type": "code",
      "metadata": {
        "id": "Q2qSlY19Ejog",
        "colab": {
          "base_uri": "https://localhost:8080/"
        },
        "outputId": "11aea4b9-d811-45f5-8707-44846f110b1b"
      },
      "source": [
        "from sklearn.model_selection import train_test_split\r\n",
        "train_lines, dev_lines = train_test_split(lines, test_size=0.25, random_state=42)\r\n",
        "\r\n",
        "batch_size = 256\r\n",
        "score_dev_every = 250\r\n",
        "train_history, dev_history = [], []\r\n",
        "\r\n",
        "model = RNNLanguageModel().to(\"cuda\")\r\n",
        "opt = torch.optim.Adam(model.parameters())\r\n",
        "\r\n",
        "# score untrained model\r\n",
        "dev_history.append((0, score_lines(model, dev_lines, batch_size)))\r\n",
        "print(\"Sample before training:\", generate(model, 'Bridging'))"
      ],
      "execution_count": null,
      "outputs": [
        {
          "output_type": "stream",
          "text": [
            "Sample before training: BridgingllYóμjdl.àTa&ΣHχDLy9)α%É\"A\n",
            "\n"
          ],
          "name": "stdout"
        }
      ]
    },
    {
      "cell_type": "code",
      "metadata": {
        "id": "IRgzSwboEq5c",
        "colab": {
          "base_uri": "https://localhost:8080/",
          "height": 382
        },
        "outputId": "069b1b50-30cc-4437-faf0-c5b84662561c"
      },
      "source": [
        "from IPython.display import clear_output\r\n",
        "from random import sample\r\n",
        "from tqdm import trange\r\n",
        "\r\n",
        "for i in trange(len(train_history), 5000):\r\n",
        "    batch = to_matrix(sample(train_lines, batch_size))\r\n",
        "        \r\n",
        "    loss_i = compute_loss(model, batch)\r\n",
        "    opt.zero_grad()\r\n",
        "    loss_i.backward()\r\n",
        "    opt.step()\r\n",
        "    \r\n",
        "    \r\n",
        "    train_history.append((i, float(loss_i)))\r\n",
        "    \r\n",
        "    if (i + 1) % 50 == 0:\r\n",
        "        clear_output(True)\r\n",
        "        plt.scatter(*zip(*train_history), alpha=0.1, label='train_loss')\r\n",
        "        if len(dev_history):\r\n",
        "            plt.plot(*zip(*dev_history), color='red', label='dev_loss')\r\n",
        "        plt.legend(); plt.grid(); plt.show()\r\n",
        "        print(\"Generated examples (tau=0.5):\")\r\n",
        "        for _ in range(3):\r\n",
        "            print(generate(model, temperature=0.5))\r\n",
        "    \r\n",
        "    if (i + 1) % score_dev_every == 0:\r\n",
        "        print(\"Scoring dev...\")\r\n",
        "        dev_history.append((i, score_lines(model, dev_lines, batch_size)))\r\n",
        "        print('#%i Dev loss: %.3f' % dev_history[-1])"
      ],
      "execution_count": null,
      "outputs": [
        {
          "output_type": "display_data",
          "data": {
            "image/png": "[encoded data removed]",
            "text/plain": [
              "<Figure size 432x288 with 1 Axes>"
            ]
          },
          "metadata": {
            "tags": [],
            "needs_background": "light"
          }
        },
        {
          "output_type": "stream",
          "text": [
            "Generated examples (tau=0.5):\n",
            " A Complexity of Residual Network for Semantic Recognition;We propose to specific structure of a cons\n",
            " Supervised Learning with Semantic Algorithms for Active Service Policy Space   Tensor   Statistic Un\n",
            " A Novel Stochastic Segmentation of Components and Entity Point Classification;This paper presents a \n",
            "Scoring dev...\n"
          ],
          "name": "stdout"
        },
        {
          "output_type": "stream",
          "text": [
            "100%|██████████| 5000/5000 [25:14<00:00,  3.30it/s]"
          ],
          "name": "stderr"
        },
        {
          "output_type": "stream",
          "text": [
            "#4999 Dev loss: 531.696\n"
          ],
          "name": "stdout"
        },
        {
          "output_type": "stream",
          "text": [
            "\n"
          ],
          "name": "stderr"
        }
      ]
    },
    {
      "cell_type": "code",
      "metadata": {
        "id": "zmlsaadjEvXR",
        "colab": {
          "base_uri": "https://localhost:8080/"
        },
        "outputId": "00ccf479-e31d-4a88-b730-f3e62af10ab6"
      },
      "source": [
        "assert np.mean(train_history[:10], axis=0)[1] > np.mean(train_history[-10:], axis=0)[1], \"The model didn't converge.\"\r\n",
        "print(\"Final dev loss:\", dev_history[-1][-1])\r\n",
        "for i in range(10):\r\n",
        "    print(generate(model, temperature=0.5))"
      ],
      "execution_count": null,
      "outputs": [
        {
          "output_type": "stream",
          "text": [
            "Final dev loss: 531.6957151891197\n",
            " An Artificial Analysis of Convolutional Neural Networks;In this work, we explore the proposed method\n",
            " Sparse Detection in   The Large Scene Synthesis for Multi-View Models for Learning Completion;We pre\n",
            " Automatic Sparsity Series for Non-Different Framework for Improving Parameter   Deep Visual Convolut\n",
            " Convergence of Language Segmentation of Automatic Learning and Search for Semantic Problem;We presen\n",
            " Bayesian Networks for Markov Decision Structure to Information Optimization;Manifold view of the not\n",
            " Deep Reinforcement Learning in Convolutional Neural Networks;We propose a new algorithm for effectiv\n",
            " An Entity Analysis of Deep Neural Networks;This paper presents a new technique for many applications\n",
            " High-dimensional Based Sensing Multiple Image Selection;In this paper, we propose a novel approach t\n",
            " On the Random Convergence of Multi-Task Inference Text Detection;We propose a new statistical genera\n",
            " A Program multi-objective for Intervised Semantic Functions;This paper proposes a novel language of \n"
          ],
          "name": "stdout"
        }
      ]
    },
    {
      "cell_type": "code",
      "metadata": {
        "id": "hbJGAU_nE5i6"
      },
      "source": [
        "def generate_nucleus(model, prefix=BOS, top_p=0, top_k=0, max_len=100, temperature=1.0):\r\n",
        "    \"\"\"\r\n",
        "    Generate a sequence with nucleous sampling\r\n",
        "    :param prefix: a string containing space-separated previous tokens\r\n",
        "    :param nucleus: N from the formulae above, N \\in [0, 1]\r\n",
        "    :param max_len: generate sequences with at most this many tokens, including prefix\r\n",
        "    \r\n",
        "    :note: make sure that nucleous always contains at least one word, even if p(w*) > nucleus\r\n",
        "    \r\n",
        "    \"\"\"\r\n",
        "    with torch.no_grad():\r\n",
        "        while True:\r\n",
        "          if top_k > 0:\r\n",
        "            token_probs = model.get_possible_next_tokens(prefix)\r\n",
        "            sorted_token_probs = dict(sorted(token_probs.items(), key=lambda item: item[1],reverse=True)[:top_k])\r\n",
        "          p = top_p\r\n",
        "          if top_p > 0:\r\n",
        "            token_probs = model.get_possible_next_tokens(prefix)\r\n",
        "            sorted_token_probs = dict(sorted(token_probs.items(), key=lambda item: item[1],reverse=True))\r\n",
        "            nucleus_token_probs = {}\r\n",
        "            for (token, prob) in sorted_token_probs.items():\r\n",
        "              nucleus_token_probs[token] = prob\r\n",
        "              p -= prob\r\n",
        "              if p < 0:\r\n",
        "                sorted_token_probs = nucleus_token_probs\r\n",
        "                break          \r\n",
        "          tokens, probs = zip(*sorted_token_probs.items())\r\n",
        "          if temperature == 0:\r\n",
        "            next_token = tokens[np.argmax(probs)]\r\n",
        "          else:\r\n",
        "            probs = np.array([p ** (1. / temperature) for p in probs])\r\n",
        "            probs /= sum(probs)\r\n",
        "            next_token = np.random.choice(tokens, p=probs)\r\n",
        "          prefix += next_token\r\n",
        "          if next_token == EOS or len(prefix) > max_len: break\r\n",
        "    return prefix"
      ],
      "execution_count": null,
      "outputs": []
    },
    {
      "cell_type": "code",
      "metadata": {
        "id": "GaopJY3KE9jk",
        "colab": {
          "base_uri": "https://localhost:8080/"
        },
        "outputId": "4f9a4465-24bc-4285-e799-5323288b6976"
      },
      "source": [
        "for i in range(10):\r\n",
        "    print(generate_nucleus(model, top_k = 100, temperature=0.5, prefix=\" deep\", max_len=150))"
      ],
      "execution_count": null,
      "outputs": [
        {
          "output_type": "stream",
          "text": [
            " deep Learning in Video Sampling of Learning Search;In this paper, we propose a new behavior of the standard Process (CCA). This paper presents a novel\n",
            " deep learning approach to discover the method for computer vision study on sequence measures;This paper describes a probabilistic problems and the dem\n",
            " deep neural networks using a control of seeming in computer vision and context and a text to detect to a series of matrix (Simptions from Deep Neural \n",
            " deep Learning with A Face Recognition with Membership Methods;A complex models and explicit results with a multi-view set of the assumption of data, w\n",
            " deep learning are a function of a classifier is a set of multiple text and information in the context of convolutional neural networks;We propose a no\n",
            " deep Learning to Recent Learning for Transparent Technique for   Factorization Classification;We propose a novel and score a new approach to the level\n",
            " deep Convolutional Neural Network for Exploration of Translation of Lasso Proposing Paradigms;We present a novel approach to the concept of deep neura\n",
            " deep neural network for multi-scale and computer   approach to use on the linear classification;A recent work with environment in the problem of compu\n",
            " deep research in the field of   information in the Hypergraphs of Convolutional Neural Network for Belief Components;A model to solve the structure of\n",
            " deep neural network for extending the use of a cross-dimensional data for an often in the tracking of a set of statistical language models is a learni\n"
          ],
          "name": "stdout"
        }
      ]
    }
  ]
}
